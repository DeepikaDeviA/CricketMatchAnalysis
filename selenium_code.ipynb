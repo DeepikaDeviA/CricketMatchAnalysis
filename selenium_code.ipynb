{
 "cells": [
  {
   "cell_type": "code",
   "execution_count": 1,
   "id": "36812967",
   "metadata": {},
   "outputs": [],
   "source": [
    "#importing necessary library\n",
    "import os\n",
    "import time\n",
    "import requests\n",
    "import zipfile\n",
    "from selenium import webdriver\n",
    "from selenium.webdriver.common.by import By\n",
    "from urllib.parse import urljoin"
   ]
  },
  {
   "cell_type": "code",
   "execution_count": 2,
   "id": "8c6ad223",
   "metadata": {},
   "outputs": [],
   "source": [
    "# Base URL for the Cricsheet website\n",
    "BASE_URL = \"https://cricsheet.org\"\n",
    "\n",
    "# URL of the page containing the cricket match data downloads\n",
    "DOWNLOAD_PAGE = \"https://cricsheet.org/downloads/\"\n",
    "\n",
    "# List of specific JSON zip files to download (e.g., Test, ODI, T20, IPL)\n",
    "REQUIRED_ZIPS = [\"tests_json.zip\", \"odis_json.zip\", \"t20s_json.zip\", \"ipl_json.zip\"]\n",
    "\n",
    "# Directory where the downloaded zip files will be saved\n",
    "ZIP_SAVE_DIR = \"Cric_match_data\"\n",
    "\n",
    "# Directory where the contents of the zip files will be extracted\n",
    "UNZIP_DIR = \"Extracted_jsons\""
   ]
  },
  {
   "cell_type": "code",
   "execution_count": 3,
   "id": "61dafd34",
   "metadata": {},
   "outputs": [],
   "source": [
    "# Step 1: Start Selenium\n",
    "driver = webdriver.Chrome()\n",
    "driver.get(DOWNLOAD_PAGE)\n",
    "time.sleep(5)\n"
   ]
  },
  {
   "cell_type": "code",
   "execution_count": 4,
   "id": "2ceae148",
   "metadata": {},
   "outputs": [],
   "source": [
    "\n",
    "# Step 2: Get all <a href=\"\"> elements\n",
    "all_links = driver.find_elements(By.TAG_NAME, \"a\")\n",
    "download_links = []"
   ]
  },
  {
   "cell_type": "code",
   "execution_count": 5,
   "id": "81439d2c",
   "metadata": {},
   "outputs": [],
   "source": [
    "# Step 3: Match required .json.zip files\n",
    "for link in all_links:\n",
    "    href = link.get_attribute(\"href\")\n",
    "    if href:\n",
    "        full_url = urljoin(BASE_URL, href)\n",
    "        for file in REQUIRED_ZIPS:\n",
    "            if full_url.endswith(file):\n",
    "                download_links.append(full_url)\n",
    "\n",
    "driver.quit()"
   ]
  },
  {
   "cell_type": "code",
   "execution_count": 6,
   "id": "969041e9",
   "metadata": {},
   "outputs": [],
   "source": [
    "# Step 4: Create folders\n",
    "os.makedirs(ZIP_SAVE_DIR, exist_ok=True)\n",
    "os.makedirs(UNZIP_DIR, exist_ok=True)"
   ]
  },
  {
   "cell_type": "code",
   "execution_count": null,
   "id": "2fda93e2",
   "metadata": {},
   "outputs": [],
   "source": [
    "# Step 5: Download and Extract\n",
    "for url in download_links:\n",
    "    filename = url.split(\"/\")[-1]\n",
    "    zip_path = os.path.join(ZIP_SAVE_DIR, filename)\n",
    "\n",
    "    try:\n",
    "        response = requests.get(url)\n",
    "        if response.status_code == 200:\n",
    "            with open(zip_path, \"wb\") as f:\n",
    "                f.write(response.content)\n",
    "\n",
    "            extract_folder = os.path.join(UNZIP_DIR, filename.replace(\".zip\", \"\"))\n",
    "            os.makedirs(extract_folder, exist_ok=True)\n",
    "\n",
    "            with zipfile.ZipFile(zip_path, 'r') as zip_ref:\n",
    "                zip_ref.extractall(extract_folder)\n",
    "    except:\n",
    "        pass "
   ]
  }
 ],
 "metadata": {
  "kernelspec": {
   "display_name": ".venv",
   "language": "python",
   "name": "python3"
  },
  "language_info": {
   "codemirror_mode": {
    "name": "ipython",
    "version": 3
   },
   "file_extension": ".py",
   "mimetype": "text/x-python",
   "name": "python",
   "nbconvert_exporter": "python",
   "pygments_lexer": "ipython3",
   "version": "3.13.2"
  }
 },
 "nbformat": 4,
 "nbformat_minor": 5
}
